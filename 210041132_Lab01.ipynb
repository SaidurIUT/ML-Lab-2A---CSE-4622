{
  "nbformat": 4,
  "nbformat_minor": 0,
  "metadata": {
    "colab": {
      "provenance": [],
      "collapsed_sections": [
        "9JzwohQrLNEB",
        "UhDonE0RL9Q4",
        "r934em02MONA",
        "-iE_kLaEMalI",
        "82XEEmZhM_Nh",
        "lnxn3SW0QI--",
        "3hWWmuy8RgMT",
        "inf1M9zcR111"
      ],
      "authorship_tag": "ABX9TyNStZJ4lBtbiGwtV6Bue8w5",
      "include_colab_link": true
    },
    "kernelspec": {
      "name": "python3",
      "display_name": "Python 3"
    },
    "language_info": {
      "name": "python"
    }
  },
  "cells": [
    {
      "cell_type": "markdown",
      "metadata": {
        "id": "view-in-github",
        "colab_type": "text"
      },
      "source": [
        "<a href=\"https://colab.research.google.com/github/SaidurIUT/ML-Lab-2A---CSE-4622/blob/main/210041132_Lab01.ipynb\" target=\"_parent\"><img src=\"https://colab.research.google.com/assets/colab-badge.svg\" alt=\"Open In Colab\"/></a>"
      ]
    },
    {
      "cell_type": "markdown",
      "source": [
        "# Lab Task 01"
      ],
      "metadata": {
        "id": "EMv0iF8rLHOx"
      }
    },
    {
      "cell_type": "markdown",
      "source": [
        "## NumPy"
      ],
      "metadata": {
        "id": "GDmjxrq5MpSc"
      }
    },
    {
      "cell_type": "code",
      "source": [
        "import numpy as np"
      ],
      "metadata": {
        "id": "bIjyfGJWLeUX"
      },
      "execution_count": 1,
      "outputs": []
    },
    {
      "cell_type": "markdown",
      "source": [
        "### Task 1"
      ],
      "metadata": {
        "id": "9JzwohQrLNEB"
      }
    },
    {
      "cell_type": "markdown",
      "source": [
        "Create an ndarray x of shape= (5, 4) with random numbers – Each of the 5 rows\n",
        "represents a sample with 4 features"
      ],
      "metadata": {
        "id": "hl2Y195WLSP_"
      }
    },
    {
      "cell_type": "code",
      "source": [
        "x = np.random.rand(5, 4)  # values between 0 and 1\n",
        "print(\"Feature matrix x:\\n\", x)\n"
      ],
      "metadata": {
        "colab": {
          "base_uri": "https://localhost:8080/"
        },
        "id": "fz2GAMvaLUvz",
        "outputId": "96c9c506-3d75-46d3-e08d-94045786ec5d"
      },
      "execution_count": 2,
      "outputs": [
        {
          "output_type": "stream",
          "name": "stdout",
          "text": [
            "Feature matrix x:\n",
            " [[0.38269111 0.61378638 0.47304689 0.72243849]\n",
            " [0.11094459 0.5438314  0.72465051 0.68228474]\n",
            " [0.36677824 0.05798195 0.65215455 0.318403  ]\n",
            " [0.34074043 0.65725522 0.8465155  0.4903555 ]\n",
            " [0.38839665 0.09770874 0.66938792 0.68302004]]\n"
          ]
        }
      ]
    },
    {
      "cell_type": "markdown",
      "source": [
        "### Task 2"
      ],
      "metadata": {
        "id": "UhDonE0RL9Q4"
      }
    },
    {
      "cell_type": "markdown",
      "source": [
        "Create a flat ndarray y of shape=(5, ), whose elements are 0 and 1 – Each element is\n",
        "the class label of the corresponding sample in x [Hint: use np.random.rand(...) and\n",
        "np.random.randint(...)]"
      ],
      "metadata": {
        "id": "PSk036J_MBy8"
      }
    },
    {
      "cell_type": "code",
      "source": [
        "y = np.random.randint(0, 2, size=5)\n",
        "print(\"Label vector y:\", y)"
      ],
      "metadata": {
        "colab": {
          "base_uri": "https://localhost:8080/"
        },
        "id": "TAfiLRY1MEQy",
        "outputId": "026c2566-1e27-42db-f065-98517b8cb459"
      },
      "execution_count": 4,
      "outputs": [
        {
          "output_type": "stream",
          "name": "stdout",
          "text": [
            "Label vector y: [1 0 0 0 0]\n"
          ]
        }
      ]
    },
    {
      "cell_type": "markdown",
      "source": [
        "### Task 3"
      ],
      "metadata": {
        "id": "r934em02MONA"
      }
    },
    {
      "cell_type": "markdown",
      "source": [
        "Define a function extract_subset(x, y, y0) that takes as input: – the feature matrix\n",
        "x, and the labels y from the previous exercise – a target class y0 (i.e., either y0=0 or\n",
        "y0=1) and returns a feature matrix containing only samples belonging to y0"
      ],
      "metadata": {
        "id": "N5ZVgEkdMRlP"
      }
    },
    {
      "cell_type": "code",
      "source": [
        "def extract_subset(x, y, y0):\n",
        "    return x[y == y0]"
      ],
      "metadata": {
        "id": "tNMqZlnOMGje"
      },
      "execution_count": 5,
      "outputs": []
    },
    {
      "cell_type": "code",
      "source": [
        "# Example usage:\n",
        "subset_0 = extract_subset(x, y, 0)\n",
        "print(\"Subset with class 0:\\n\", subset_0)"
      ],
      "metadata": {
        "colab": {
          "base_uri": "https://localhost:8080/"
        },
        "id": "uJLyvW4wM001",
        "outputId": "e73a8eef-49b7-49ac-e67c-567f41690a88"
      },
      "execution_count": 6,
      "outputs": [
        {
          "output_type": "stream",
          "name": "stdout",
          "text": [
            "Subset with class 0:\n",
            " [[0.11094459 0.5438314  0.72465051 0.68228474]\n",
            " [0.36677824 0.05798195 0.65215455 0.318403  ]\n",
            " [0.34074043 0.65725522 0.8465155  0.4903555 ]\n",
            " [0.38839665 0.09770874 0.66938792 0.68302004]]\n"
          ]
        }
      ]
    },
    {
      "cell_type": "markdown",
      "source": [
        "### Task 4"
      ],
      "metadata": {
        "id": "-iE_kLaEMalI"
      }
    },
    {
      "cell_type": "markdown",
      "source": [
        "Import a dataset (IRIS dataset) by keeping the text and numbers intact. url =\n",
        "\"https://archive.ics.uci.edu/ml/machine-learning-databases/iris/iris.data\"\n"
      ],
      "metadata": {
        "id": "YohtvbpfMwZO"
      }
    },
    {
      "cell_type": "code",
      "source": [
        "iris_url = \"https://archive.ics.uci.edu/ml/machine-learning-databases/iris/iris.data\"\n",
        "iris_data = np.genfromtxt(iris_url, delimiter=',', dtype='str')\n",
        "print(\"IRIS Dataset (first 5 rows):\\n\", iris_data[:5])"
      ],
      "metadata": {
        "colab": {
          "base_uri": "https://localhost:8080/"
        },
        "id": "oBA2Mf1-M34x",
        "outputId": "4cca46f9-07b4-4f7f-8377-8cbf15f8b9a0"
      },
      "execution_count": 7,
      "outputs": [
        {
          "output_type": "stream",
          "name": "stdout",
          "text": [
            "IRIS Dataset (first 5 rows):\n",
            " [['5.1' '3.5' '1.4' '0.2' 'Iris-setosa']\n",
            " ['4.9' '3.0' '1.4' '0.2' 'Iris-setosa']\n",
            " ['4.7' '3.2' '1.3' '0.2' 'Iris-setosa']\n",
            " ['4.6' '3.1' '1.5' '0.2' 'Iris-setosa']\n",
            " ['5.0' '3.6' '1.4' '0.2' 'Iris-setosa']]\n"
          ]
        }
      ]
    },
    {
      "cell_type": "markdown",
      "source": [
        "### Task 5"
      ],
      "metadata": {
        "id": "82XEEmZhM_Nh"
      }
    },
    {
      "cell_type": "markdown",
      "source": [
        "Find the mean, median and standard deviation of the 1st column of the given dataset.\n",
        "Give statistical summary of the dataset as many as possible."
      ],
      "metadata": {
        "id": "44rLwEcLNBdg"
      }
    },
    {
      "cell_type": "code",
      "source": [
        "iris_numeric = iris_data[:, :4].astype(float)  # first 4 columns are numeric\n",
        "first_col = iris_numeric[:, 0]\n",
        "\n",
        "print(\"Mean:\", np.mean(first_col))\n",
        "print(\"Median:\", np.median(first_col))\n",
        "print(\"Standard Deviation:\", np.std(first_col))"
      ],
      "metadata": {
        "colab": {
          "base_uri": "https://localhost:8080/"
        },
        "id": "XOirTV-cNDBf",
        "outputId": "331b2eff-3446-4d61-b3b3-c96f6fc2a8ab"
      },
      "execution_count": 8,
      "outputs": [
        {
          "output_type": "stream",
          "name": "stdout",
          "text": [
            "Mean: 5.843333333333334\n",
            "Median: 5.8\n",
            "Standard Deviation: 0.8253012917851409\n"
          ]
        }
      ]
    },
    {
      "cell_type": "code",
      "source": [
        "# Optional: Full statistical summary\n",
        "\n",
        "for i in range(iris_numeric.shape[1]):\n",
        "    col = iris_numeric[:, i]\n",
        "    print(f\"\\nFeature {i+1} stats:\")\n",
        "    print(f\"Mean: {np.mean(col):.2f}, Median: {np.median(col):.2f}, Std: {np.std(col):.2f}\")\n"
      ],
      "metadata": {
        "colab": {
          "base_uri": "https://localhost:8080/"
        },
        "id": "b2SGP6OiNNAA",
        "outputId": "cf4eb69e-024c-43b6-e4cd-c7becb253666"
      },
      "execution_count": 11,
      "outputs": [
        {
          "output_type": "stream",
          "name": "stdout",
          "text": [
            "\n",
            "Feature 1 stats:\n",
            "Mean: 5.84, Median: 5.80, Std: 0.83\n",
            "\n",
            "Feature 2 stats:\n",
            "Mean: 3.05, Median: 3.00, Std: 0.43\n",
            "\n",
            "Feature 3 stats:\n",
            "Mean: 3.76, Median: 4.35, Std: 1.76\n",
            "\n",
            "Feature 4 stats:\n",
            "Mean: 1.20, Median: 1.30, Std: 0.76\n"
          ]
        }
      ]
    },
    {
      "cell_type": "markdown",
      "source": [
        "## Pandas"
      ],
      "metadata": {
        "id": "xR9hqya5QEOT"
      }
    },
    {
      "cell_type": "code",
      "source": [
        "import pandas as pd"
      ],
      "metadata": {
        "id": "OXE_Lvm4QqWB"
      },
      "execution_count": 24,
      "outputs": []
    },
    {
      "cell_type": "markdown",
      "source": [
        "### Task 1"
      ],
      "metadata": {
        "id": "lnxn3SW0QI--"
      }
    },
    {
      "cell_type": "markdown",
      "source": [
        "Loading & Inspecting Data\n",
        "\n",
        "\n",
        "*   Load a CSV file into a Pandas DataFrame.\n",
        "*   Display the first 10 rows.\n",
        "*   Check the data types of each column.\n",
        "*   Print summary statistics of numerical columns.\n",
        "\n",
        "\n",
        ""
      ],
      "metadata": {
        "id": "tp6r-PyIQR65"
      }
    },
    {
      "cell_type": "code",
      "source": [
        "# Load and Inspect Data\n",
        "file_path = \"/content/sample_data/california_housing_test.csv\"\n",
        "df = pd.read_csv(file_path)"
      ],
      "metadata": {
        "id": "iHLtxPsMQUSz"
      },
      "execution_count": 25,
      "outputs": []
    },
    {
      "cell_type": "code",
      "source": [
        "# Display the first 10 rows\n",
        "print(df.head(10))"
      ],
      "metadata": {
        "colab": {
          "base_uri": "https://localhost:8080/"
        },
        "id": "YB4QO2ACQwZS",
        "outputId": "140ad347-0790-4c9c-df4e-40897ad495af"
      },
      "execution_count": 26,
      "outputs": [
        {
          "output_type": "stream",
          "name": "stdout",
          "text": [
            "   longitude  latitude  housing_median_age  total_rooms  total_bedrooms  \\\n",
            "0    -122.05     37.37                27.0       3885.0           661.0   \n",
            "1    -118.30     34.26                43.0       1510.0           310.0   \n",
            "2    -117.81     33.78                27.0       3589.0           507.0   \n",
            "3    -118.36     33.82                28.0         67.0            15.0   \n",
            "4    -119.67     36.33                19.0       1241.0           244.0   \n",
            "5    -119.56     36.51                37.0       1018.0           213.0   \n",
            "6    -121.43     38.63                43.0       1009.0           225.0   \n",
            "7    -120.65     35.48                19.0       2310.0           471.0   \n",
            "8    -122.84     38.40                15.0       3080.0           617.0   \n",
            "9    -118.02     34.08                31.0       2402.0           632.0   \n",
            "\n",
            "   population  households  median_income  median_house_value  \n",
            "0      1537.0       606.0         6.6085            344700.0  \n",
            "1       809.0       277.0         3.5990            176500.0  \n",
            "2      1484.0       495.0         5.7934            270500.0  \n",
            "3        49.0        11.0         6.1359            330000.0  \n",
            "4       850.0       237.0         2.9375             81700.0  \n",
            "5       663.0       204.0         1.6635             67000.0  \n",
            "6       604.0       218.0         1.6641             67000.0  \n",
            "7      1341.0       441.0         3.2250            166900.0  \n",
            "8      1446.0       599.0         3.6696            194400.0  \n",
            "9      2830.0       603.0         2.3333            164200.0  \n"
          ]
        }
      ]
    },
    {
      "cell_type": "code",
      "source": [
        "# Check data types of each column\n",
        "print(\"\\nData types:\")\n",
        "print(df.dtypes)"
      ],
      "metadata": {
        "colab": {
          "base_uri": "https://localhost:8080/"
        },
        "id": "h-4beo8WRZdt",
        "outputId": "28876af9-5ad0-4de5-e872-979d3bfc5d21"
      },
      "execution_count": 27,
      "outputs": [
        {
          "output_type": "stream",
          "name": "stdout",
          "text": [
            "\n",
            "Data types:\n",
            "longitude             float64\n",
            "latitude              float64\n",
            "housing_median_age    float64\n",
            "total_rooms           float64\n",
            "total_bedrooms        float64\n",
            "population            float64\n",
            "households            float64\n",
            "median_income         float64\n",
            "median_house_value    float64\n",
            "dtype: object\n"
          ]
        }
      ]
    },
    {
      "cell_type": "code",
      "source": [
        "# Summary statistics of numerical columns\n",
        "print(\"\\nSummary statistics:\")\n",
        "print(df.describe())"
      ],
      "metadata": {
        "colab": {
          "base_uri": "https://localhost:8080/"
        },
        "id": "G79e_CUdRYlD",
        "outputId": "bc7b1616-a0f9-4c60-fe52-92986c99742b"
      },
      "execution_count": 28,
      "outputs": [
        {
          "output_type": "stream",
          "name": "stdout",
          "text": [
            "\n",
            "Summary statistics:\n",
            "         longitude    latitude  housing_median_age   total_rooms  \\\n",
            "count  3000.000000  3000.00000         3000.000000   3000.000000   \n",
            "mean   -119.589200    35.63539           28.845333   2599.578667   \n",
            "std       1.994936     2.12967           12.555396   2155.593332   \n",
            "min    -124.180000    32.56000            1.000000      6.000000   \n",
            "25%    -121.810000    33.93000           18.000000   1401.000000   \n",
            "50%    -118.485000    34.27000           29.000000   2106.000000   \n",
            "75%    -118.020000    37.69000           37.000000   3129.000000   \n",
            "max    -114.490000    41.92000           52.000000  30450.000000   \n",
            "\n",
            "       total_bedrooms    population  households  median_income  \\\n",
            "count     3000.000000   3000.000000  3000.00000    3000.000000   \n",
            "mean       529.950667   1402.798667   489.91200       3.807272   \n",
            "std        415.654368   1030.543012   365.42271       1.854512   \n",
            "min          2.000000      5.000000     2.00000       0.499900   \n",
            "25%        291.000000    780.000000   273.00000       2.544000   \n",
            "50%        437.000000   1155.000000   409.50000       3.487150   \n",
            "75%        636.000000   1742.750000   597.25000       4.656475   \n",
            "max       5419.000000  11935.000000  4930.00000      15.000100   \n",
            "\n",
            "       median_house_value  \n",
            "count          3000.00000  \n",
            "mean         205846.27500  \n",
            "std          113119.68747  \n",
            "min           22500.00000  \n",
            "25%          121200.00000  \n",
            "50%          177650.00000  \n",
            "75%          263975.00000  \n",
            "max          500001.00000  \n"
          ]
        }
      ]
    },
    {
      "cell_type": "markdown",
      "source": [
        "### Task 2"
      ],
      "metadata": {
        "id": "3hWWmuy8RgMT"
      }
    },
    {
      "cell_type": "markdown",
      "source": [
        "Handling Missing Data\n",
        "\n",
        "* Identify columns with missing values and count them.\n",
        "* Remove rows with missing values.\n",
        "* Fill missing values with the mean or mode."
      ],
      "metadata": {
        "id": "XGQdytq1RjRb"
      }
    },
    {
      "cell_type": "code",
      "source": [
        "# Handling Missing Data\n",
        "missing = df.isnull().sum()\n",
        "print(\"Missing values per column:\\n\", missing)"
      ],
      "metadata": {
        "colab": {
          "base_uri": "https://localhost:8080/"
        },
        "id": "c_K4PoAlRikH",
        "outputId": "35ee308b-ef99-461b-f9b3-fa40a3d5e115"
      },
      "execution_count": 29,
      "outputs": [
        {
          "output_type": "stream",
          "name": "stdout",
          "text": [
            "Missing values per column:\n",
            " longitude             0\n",
            "latitude              0\n",
            "housing_median_age    0\n",
            "total_rooms           0\n",
            "total_bedrooms        0\n",
            "population            0\n",
            "households            0\n",
            "median_income         0\n",
            "median_house_value    0\n",
            "dtype: int64\n"
          ]
        }
      ]
    },
    {
      "cell_type": "code",
      "source": [
        "# Remove rows with missing values\n",
        "df_no_na = df.dropna()\n",
        "print(f\"Shape after dropping missing rows: {df_no_na.shape}\")"
      ],
      "metadata": {
        "colab": {
          "base_uri": "https://localhost:8080/"
        },
        "id": "Rgmla6pARtpn",
        "outputId": "9766e3ae-f8cc-4863-a81b-6f5199ba586e"
      },
      "execution_count": 30,
      "outputs": [
        {
          "output_type": "stream",
          "name": "stdout",
          "text": [
            "Shape after dropping missing rows: (3000, 9)\n"
          ]
        }
      ]
    },
    {
      "cell_type": "code",
      "source": [
        "# Fill missing values with mean (if any)\n",
        "df_filled = df.fillna(df.mean(numeric_only=True))\n",
        "print(\"Filled missing values with mean.\")"
      ],
      "metadata": {
        "colab": {
          "base_uri": "https://localhost:8080/"
        },
        "id": "Ped_I2cQRwJw",
        "outputId": "1826dae6-d7e0-42a8-b07a-944b04049d1c"
      },
      "execution_count": 31,
      "outputs": [
        {
          "output_type": "stream",
          "name": "stdout",
          "text": [
            "Filled missing values with mean.\n"
          ]
        }
      ]
    },
    {
      "cell_type": "markdown",
      "source": [
        "### Task 3"
      ],
      "metadata": {
        "id": "inf1M9zcR111"
      }
    },
    {
      "cell_type": "markdown",
      "source": [
        "Suppose you are an investor and want to invest in housing properties. Use this dataset\n",
        "to make decision on the location of investing."
      ],
      "metadata": {
        "id": "AnyxjSLxR4xF"
      }
    },
    {
      "cell_type": "code",
      "source": [
        "# Investment Decision - Example Insight\n",
        "# Let's assume a strategy: invest where 'median_house_value' is high and 'median_income' is high\n",
        "top_locations = df[df['median_income'] > 6].sort_values(by='median_house_value', ascending=False)\n",
        "print(\"Top investment locations:\\n\", top_locations[['longitude', 'latitude', 'median_income', 'median_house_value']].head(10))"
      ],
      "metadata": {
        "colab": {
          "base_uri": "https://localhost:8080/"
        },
        "id": "NBfWjYeaR4Js",
        "outputId": "cb444d3b-64d2-41cb-b865-016239cd88ce"
      },
      "execution_count": 32,
      "outputs": [
        {
          "output_type": "stream",
          "name": "stdout",
          "text": [
            "Top investment locations:\n",
            "       longitude  latitude  median_income  median_house_value\n",
            "2999    -119.63     34.42         8.5608            500001.0\n",
            "2992    -122.33     37.39         6.2263            500001.0\n",
            "42      -118.06     34.15        15.0001            500001.0\n",
            "2810    -118.16     34.13         7.7230            500001.0\n",
            "2960    -117.89     33.60         7.8164            500001.0\n",
            "337     -117.97     34.15         6.4576            500001.0\n",
            "290     -122.40     37.59         6.2306            500001.0\n",
            "308     -118.40     34.04         8.5938            500001.0\n",
            "2683    -118.05     34.14         8.9728            500001.0\n",
            "2665    -118.39     34.12         8.2816            500001.0\n"
          ]
        }
      ]
    }
  ]
}